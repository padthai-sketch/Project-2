{
 "cells": [
  {
   "cell_type": "code",
   "execution_count": 49,
   "metadata": {},
   "outputs": [
    {
     "data": {
      "text/plain": [
       "'123+Random+st'"
      ]
     },
     "execution_count": 49,
     "metadata": {},
     "output_type": "execute_result"
    }
   ],
   "source": [
    "address = '123 Random st'\n",
    "address.replace(\" \", \"+\")"
   ]
  },
  {
   "cell_type": "code",
   "execution_count": 50,
   "metadata": {},
   "outputs": [],
   "source": [
    "import pandas as pd"
   ]
  },
  {
   "cell_type": "code",
   "execution_count": 51,
   "metadata": {},
   "outputs": [
    {
     "data": {
      "text/html": [
       "<div>\n",
       "<style scoped>\n",
       "    .dataframe tbody tr th:only-of-type {\n",
       "        vertical-align: middle;\n",
       "    }\n",
       "\n",
       "    .dataframe tbody tr th {\n",
       "        vertical-align: top;\n",
       "    }\n",
       "\n",
       "    .dataframe thead th {\n",
       "        text-align: right;\n",
       "    }\n",
       "</style>\n",
       "<table border=\"1\" class=\"dataframe\">\n",
       "  <thead>\n",
       "    <tr style=\"text-align: right;\">\n",
       "      <th></th>\n",
       "      <th>Unnamed: 0</th>\n",
       "      <th>class</th>\n",
       "      <th>ListPrice</th>\n",
       "      <th>BedroomsTotal</th>\n",
       "      <th>BathroomsTotalInteger</th>\n",
       "      <th>BuildingAreaTotal</th>\n",
       "    </tr>\n",
       "  </thead>\n",
       "  <tbody>\n",
       "    <tr>\n",
       "      <th>count</th>\n",
       "      <td>3377.000000</td>\n",
       "      <td>1044.000000</td>\n",
       "      <td>3.377000e+03</td>\n",
       "      <td>3377.000000</td>\n",
       "      <td>3377.000000</td>\n",
       "      <td>3377.000000</td>\n",
       "    </tr>\n",
       "    <tr>\n",
       "      <th>mean</th>\n",
       "      <td>5170.254072</td>\n",
       "      <td>11.783525</td>\n",
       "      <td>1.979043e+05</td>\n",
       "      <td>2.064554</td>\n",
       "      <td>2.087948</td>\n",
       "      <td>1217.923897</td>\n",
       "    </tr>\n",
       "    <tr>\n",
       "      <th>std</th>\n",
       "      <td>2789.941755</td>\n",
       "      <td>9.209143</td>\n",
       "      <td>2.007953e+05</td>\n",
       "      <td>0.811997</td>\n",
       "      <td>0.847159</td>\n",
       "      <td>672.785433</td>\n",
       "    </tr>\n",
       "    <tr>\n",
       "      <th>min</th>\n",
       "      <td>9.000000</td>\n",
       "      <td>0.000000</td>\n",
       "      <td>9.000000e+02</td>\n",
       "      <td>0.000000</td>\n",
       "      <td>0.000000</td>\n",
       "      <td>0.000000</td>\n",
       "    </tr>\n",
       "    <tr>\n",
       "      <th>25%</th>\n",
       "      <td>3144.000000</td>\n",
       "      <td>4.000000</td>\n",
       "      <td>1.000000e+05</td>\n",
       "      <td>2.000000</td>\n",
       "      <td>2.000000</td>\n",
       "      <td>828.000000</td>\n",
       "    </tr>\n",
       "    <tr>\n",
       "      <th>50%</th>\n",
       "      <td>5355.000000</td>\n",
       "      <td>8.000000</td>\n",
       "      <td>2.000000e+05</td>\n",
       "      <td>2.000000</td>\n",
       "      <td>2.000000</td>\n",
       "      <td>1111.000000</td>\n",
       "    </tr>\n",
       "    <tr>\n",
       "      <th>75%</th>\n",
       "      <td>7261.000000</td>\n",
       "      <td>20.000000</td>\n",
       "      <td>2.000000e+05</td>\n",
       "      <td>3.000000</td>\n",
       "      <td>3.000000</td>\n",
       "      <td>1501.000000</td>\n",
       "    </tr>\n",
       "    <tr>\n",
       "      <th>max</th>\n",
       "      <td>10199.000000</td>\n",
       "      <td>33.000000</td>\n",
       "      <td>5.000000e+06</td>\n",
       "      <td>7.000000</td>\n",
       "      <td>7.000000</td>\n",
       "      <td>9606.000000</td>\n",
       "    </tr>\n",
       "  </tbody>\n",
       "</table>\n",
       "</div>"
      ],
      "text/plain": [
       "         Unnamed: 0        class     ListPrice  BedroomsTotal  \\\n",
       "count   3377.000000  1044.000000  3.377000e+03    3377.000000   \n",
       "mean    5170.254072    11.783525  1.979043e+05       2.064554   \n",
       "std     2789.941755     9.209143  2.007953e+05       0.811997   \n",
       "min        9.000000     0.000000  9.000000e+02       0.000000   \n",
       "25%     3144.000000     4.000000  1.000000e+05       2.000000   \n",
       "50%     5355.000000     8.000000  2.000000e+05       2.000000   \n",
       "75%     7261.000000    20.000000  2.000000e+05       3.000000   \n",
       "max    10199.000000    33.000000  5.000000e+06       7.000000   \n",
       "\n",
       "       BathroomsTotalInteger  BuildingAreaTotal  \n",
       "count            3377.000000        3377.000000  \n",
       "mean                2.087948        1217.923897  \n",
       "std                 0.847159         672.785433  \n",
       "min                 0.000000           0.000000  \n",
       "25%                 2.000000         828.000000  \n",
       "50%                 2.000000        1111.000000  \n",
       "75%                 3.000000        1501.000000  \n",
       "max                 7.000000        9606.000000  "
      ]
     },
     "execution_count": 51,
     "metadata": {},
     "output_type": "execute_result"
    }
   ],
   "source": [
    "df2 = pd.read_csv('../Data/k_means_predictions.csv')\n",
    "df2.describe()"
   ]
  },
  {
   "cell_type": "code",
   "execution_count": 52,
   "metadata": {},
   "outputs": [
    {
     "data": {
      "text/plain": [
       "count    3377.000000\n",
       "mean     1217.923897\n",
       "std       672.785433\n",
       "min         0.000000\n",
       "25%       828.000000\n",
       "50%      1111.000000\n",
       "75%      1501.000000\n",
       "max      9606.000000\n",
       "Name: BuildingAreaTotal, dtype: float64"
      ]
     },
     "execution_count": 52,
     "metadata": {},
     "output_type": "execute_result"
    }
   ],
   "source": [
    "df2.describe()['BuildingAreaTotal']"
   ]
  },
  {
   "cell_type": "code",
   "execution_count": 53,
   "metadata": {},
   "outputs": [],
   "source": [
    "df1 = pd.read_csv('../Data/jeffery_data.csv')\n",
    "\n",
    "sq_class = df1['BuildingAreaTotal.3'][2:][df1['BuildingAreaTotal.3'][2:].astype(float) >= square_feet].index.values.tolist()\n",
    "bd_class = df1['BedroomsTotal.3'][2:][df1['BedroomsTotal.3'][2:].astype(float) >= bedroom_number].index.values.tolist()\n",
    "bt_class = df1['BathroomsTotalInteger.3'][2:][df1['BathroomsTotalInteger.3'][2:].astype(float) >= bathroom_number].index.values.tolist()\n",
    "pr_class = df1['ListPrice.3'][2:][(df1['ListPrice.3'][2:].astype(float) <= max_loan_amount)].index.values.tolist()\n",
    "\n",
    "all_list = sq_class + bd_class + bt_class + pr_class\n",
    "suggested_class = max(set(all_list), key = all_list.count)"
   ]
  },
  {
   "cell_type": "code",
   "execution_count": 54,
   "metadata": {},
   "outputs": [],
   "source": [
    "all_list = sq_class + bd_class + bt_class + pr_class\n",
    "suggested_class = max(set(all_list), key = all_list.count)"
   ]
  },
  {
   "cell_type": "code",
   "execution_count": 56,
   "metadata": {},
   "outputs": [
    {
     "data": {
      "text/plain": [
       "996             2124 Burton DR # 134, Austin TX 78741\n",
       "636                   3201 PECOS # 8, Austin TX 78703\n",
       "402    10616 Mellow Meadows DR # 46a, Austin TX 78750\n",
       "952         2815 Rio Grande ST # 108, Austin TX 78705\n",
       "310              4306 Avenue A # 102, Austin TX 78751\n",
       "Name: UnparsedAddress, dtype: object"
      ]
     },
     "execution_count": 56,
     "metadata": {},
     "output_type": "execute_result"
    }
   ],
   "source": [
    "mask = (df2['class'] == suggested_class)&(df2['ListPrice'] <= max_loan_amount)&(df2['BedroomsTotal'] <= bedroom_number)&(df2['BathroomsTotalInteger'] <= bathroom_number)&(df2['BuildingAreaTotal'] <= square_feet)\n",
    "df2[mask].sample(5)['UnparsedAddress']"
   ]
  },
  {
   "cell_type": "code",
   "execution_count": 57,
   "metadata": {},
   "outputs": [
    {
     "data": {
      "text/plain": [
       "Int64Index([17], dtype='int64')"
      ]
     },
     "execution_count": 57,
     "metadata": {},
     "output_type": "execute_result"
    }
   ],
   "source": [
    "df1['BedroomsTotal.3'][2:][df1['BedroomsTotal.3'][2:].astype(float) > bedroom_number].index"
   ]
  },
  {
   "cell_type": "code",
   "execution_count": 58,
   "metadata": {},
   "outputs": [
    {
     "data": {
      "text/plain": [
       "Int64Index([17, 18, 26], dtype='int64')"
      ]
     },
     "execution_count": 58,
     "metadata": {},
     "output_type": "execute_result"
    }
   ],
   "source": [
    "df1['BathroomsTotalInteger.3'][2:][df1['BathroomsTotalInteger.3'][2:].astype(float) > bathroom_number].index"
   ]
  },
  {
   "cell_type": "code",
   "execution_count": 59,
   "metadata": {},
   "outputs": [
    {
     "data": {
      "text/plain": [
       "Int64Index([ 2,  3,  4,  5,  6,  7,  8,  9, 10, 11, 12, 13, 14, 15, 16, 17, 18,\n",
       "            19, 20, 21, 22, 23, 24, 25, 26, 27, 28, 29],\n",
       "           dtype='int64')"
      ]
     },
     "execution_count": 59,
     "metadata": {},
     "output_type": "execute_result"
    }
   ],
   "source": [
    "df1['ListPrice.3'][2:][(df1['ListPrice.3'][2:].astype(float) <= max_loan_amount)].index\n"
   ]
  },
  {
   "cell_type": "code",
   "execution_count": 60,
   "metadata": {},
   "outputs": [],
   "source": [
    "age = 22\n",
    "credit_score = 700\n",
    "annual_income = 50000\n",
    "down_payment = 20000\n",
    "bedroom_number = 2\n",
    "bathroom_number = 2\n",
    "square_feet = 2000"
   ]
  },
  {
   "cell_type": "code",
   "execution_count": 61,
   "metadata": {},
   "outputs": [],
   "source": [
    "def get_max_loan_amount(credit_score, annual_income, down_payment):\n",
    "    if credit_score < 500:\n",
    "        loan_amount =  down_payment / 0.1\n",
    "        total_interest = loan_amount * (1.04**30)\n",
    "        min_payment = total_interest / 30\n",
    "        \n",
    "        if annual_income / 3 > min_payment:\n",
    "            return loan_amount\n",
    "        else: \n",
    "            return ((annual_income / 3) * 30) - (((annual_income / 3) * 30) / (1.04**30))\n",
    "            \n",
    "    if credit_score > 500 and credit_score < 620:\n",
    "        loan_amount = down_payment / 0.035\n",
    "        total_interest = loan_amount * (1.04**30)\n",
    "        min_payment = total_interest / 30\n",
    "        \n",
    "        if annual_income / 3 > min_payment:\n",
    "            return loan_amount\n",
    "        else: \n",
    "            return ((annual_income / 3) * 30) - (((annual_income / 3) * 30) / (1.04**30))\n",
    "        \n",
    "    if credit_score > 620:\n",
    "        loan_amount = down_payment / 0.03\n",
    "        total_interest = loan_amount * (1.04**30)\n",
    "        min_payment = total_interest / 30\n",
    "        \n",
    "        if annual_income / 3 > min_payment:\n",
    "            return loan_amount\n",
    "        else: \n",
    "            return ((annual_income / 3) * 30) - (((annual_income / 3) * 30) / (1.04**30))\n",
    "        "
   ]
  },
  {
   "cell_type": "code",
   "execution_count": 28,
   "metadata": {},
   "outputs": [
    {
     "data": {
      "text/plain": [
       "345840.6660132898"
      ]
     },
     "execution_count": 28,
     "metadata": {},
     "output_type": "execute_result"
    }
   ],
   "source": [
    "max_loan_amount = get_max_loan_amount(credit_score, annual_income, down_payment)\n",
    "max_loan_amount"
   ]
  },
  {
   "cell_type": "code",
   "execution_count": 29,
   "metadata": {},
   "outputs": [],
   "source": [
    "def get_recommended_addresses(max_loan_amount, bedroom_number, bathroom_number, square_feet):\n",
    "    df1 = pd.read_csv('../Data/jeffery_data.csv')\n",
    "\n",
    "    sq_class = df1['BuildingAreaTotal.3'][2:][df1['BuildingAreaTotal.3'][2:].astype(float) > square_feet].index.values.tolist()\n",
    "    bd_class = df1['BedroomsTotal.3'][2:][df1['BedroomsTotal.3'][2:].astype(float) > bedroom_number].index.values.tolist()\n",
    "    bt_class = df1['BathroomsTotalInteger.3'][2:][df1['BathroomsTotalInteger.3'][2:].astype(float) > bathroom_number].index.values.tolist()\n",
    "    pr_class = df1['ListPrice.3'][2:][(df1['ListPrice.3'][2:].astype(float) <= max_loan_amount)].index.values.tolist()\n",
    "\n",
    "    all_list = sq_class + bd_class + bt_class + pr_class\n",
    "    suggested_class = max(set(all_list), key = all_list.count)\n",
    "    mask = (df2['class'] == suggested_class)&(df2['ListPrice'] <= max_loan_amount)&(df2['BedroomsTotal'] <= bedroom_number)&(df2['BathroomsTotalInteger'] <= bathroom_number)&(df2['BuildingAreaTotal'] <= square_feet)\n",
    "    return df2[mask].sample(5)['UnparsedAddress'].values"
   ]
  },
  {
   "cell_type": "code",
   "execution_count": null,
   "metadata": {},
   "outputs": [],
   "source": []
  },
  {
   "cell_type": "code",
   "execution_count": null,
   "metadata": {},
   "outputs": [],
   "source": []
  }
 ],
 "metadata": {
  "kernelspec": {
   "display_name": "Python [conda env:alpacaenv]",
   "language": "python",
   "name": "conda-env-alpacaenv-py"
  },
  "language_info": {
   "codemirror_mode": {
    "name": "ipython",
    "version": 3
   },
   "file_extension": ".py",
   "mimetype": "text/x-python",
   "name": "python",
   "nbconvert_exporter": "python",
   "pygments_lexer": "ipython3",
   "version": "3.7.9"
  }
 },
 "nbformat": 4,
 "nbformat_minor": 4
}
